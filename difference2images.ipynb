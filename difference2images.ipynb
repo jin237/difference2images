{
 "cells": [
  {
   "cell_type": "code",
   "execution_count": 1,
   "metadata": {},
   "outputs": [],
   "source": [
    "import cv2, os\n",
    "import numpy as np\n",
    "\n",
    "img_1 = cv2.imread('./data/desk_iino_01.jpg')\n",
    "img_2 = cv2.imread('./data/desk_iino_02.jpg')\n",
    "\n",
    "height = img_1.shape[0]\n",
    "width = img_1.shape[1]\n",
    "\n",
    "\n",
    "img_size = (int(width), int(height))\n",
    "\n",
    "# 画像をリサイズする\n",
    "image1 = cv2.resize(img_1, img_size)\n",
    "image2 = cv2.resize(img_2, img_size)"
   ]
  },
  {
   "cell_type": "code",
   "execution_count": 2,
   "metadata": {},
   "outputs": [
    {
     "data": {
      "text/plain": [
       "True"
      ]
     },
     "execution_count": 2,
     "metadata": {},
     "output_type": "execute_result"
    }
   ],
   "source": [
    "# ２画像の差異を計算\n",
    "im_diff = image1.astype(int) - image2.astype(int)\n",
    "\n",
    "\n",
    "# 単純に差異をそのまま出力する\n",
    "cv2.imwrite('./01_diff.png', im_diff)"
   ]
  },
  {
   "cell_type": "code",
   "execution_count": 3,
   "metadata": {},
   "outputs": [
    {
     "data": {
      "text/plain": [
       "True"
      ]
     },
     "execution_count": 3,
     "metadata": {},
     "output_type": "execute_result"
    }
   ],
   "source": [
    "# 差異が無い箇所を中心（灰色：128）とし、そこからの差異を示す\n",
    "cv2.imwrite('./02_diff_center.png', im_diff + 128)\n",
    "\n",
    "# 差異が無い箇所を中心（灰色：128）とし、差異を2で割った商にする（差異を-128～128にしておきたいため）\n",
    "im_diff_center = np.floor_divide(im_diff, 2) + 128\n",
    "cv2.imwrite('./03_diff_center.png', im_diff_center)"
   ]
  },
  {
   "cell_type": "code",
   "execution_count": null,
   "metadata": {},
   "outputs": [],
   "source": []
  }
 ],
 "metadata": {
  "kernelspec": {
   "display_name": "Python 3",
   "language": "python",
   "name": "python3"
  },
  "language_info": {
   "codemirror_mode": {
    "name": "ipython",
    "version": 3
   },
   "file_extension": ".py",
   "mimetype": "text/x-python",
   "name": "python",
   "nbconvert_exporter": "python",
   "pygments_lexer": "ipython3",
   "version": "3.7.6"
  }
 },
 "nbformat": 4,
 "nbformat_minor": 4
}
